{
 "cells": [
  {
   "cell_type": "markdown",
   "metadata": {},
   "source": [
    "# How to Run DESC and DISC on the Iris Dataset "
   ]
  },
  {
   "cell_type": "markdown",
   "metadata": {},
   "source": [
    "First, we load IRIS dataset and convert it into a sparse binary matrix format."
   ]
  },
  {
   "cell_type": "code",
   "execution_count": 1,
   "metadata": {},
   "outputs": [],
   "source": [
    "import numpy as np\n",
    "from sklearn.datasets import load_iris\n",
    "\n",
    "def fetch_iris():\n",
    "    iris = load_iris()\n",
    "    data = iris.data.round(0)\n",
    "    labels = list(iris.target.astype(int))\n",
    "\n",
    "    data[:,0] -= min(data[:,0])\n",
    "    for c in [1, 2, 3]:\n",
    "        data[:,c] -= min(data[:,c]) - max(data[:,c - 1]) - 1\n",
    "        \n",
    "    data = list(data.astype(int))\n",
    "    \n",
    "    return data, labels"
   ]
  },
  {
   "cell_type": "code",
   "execution_count": 2,
   "metadata": {},
   "outputs": [],
   "source": [
    "x, y = fetch_iris()\n",
    "dim = max([max(e) for e in x])"
   ]
  },
  {
   "cell_type": "markdown",
   "metadata": {},
   "source": [
    "# Summarizing a single dataset\n",
    "\n",
    "We start with discovering a solution to the summary problem for this dataset. That is the problem of discovering a set of patterns that together are informative, non-redundant and concise to be interpretable.\n",
    "\n",
    "Informative Pattern Set Mining is implemented in disc and can be used in the following way"
   ]
  },
  {
   "cell_type": "code",
   "execution_count": 3,
   "metadata": {},
   "outputs": [],
   "source": [
    "from disc import *\n",
    "\n",
    "result = desc(x)"
   ]
  },
  {
   "cell_type": "markdown",
   "metadata": {},
   "source": [
    "This function returns a python dictionary that among others contains the discovered pattern set. \n",
    "\n",
    "As this result also contains singletons, we are going to report patterns of at least length 2 in the following"
   ]
  },
  {
   "cell_type": "code",
   "execution_count": 4,
   "metadata": {},
   "outputs": [],
   "source": [
    "S = result[\"pattern_set\"] #includes singletons\n",
    "patterns = [x for x in S if len(x) > 1]"
   ]
  },
  {
   "cell_type": "markdown",
   "metadata": {},
   "source": [
    "The patterns in that set are sorted by the step in which we have inserted that pattern.\n",
    "\n",
    "To quantify the results in terms of BIC in a meaningful way, we can compute the BIC ratio (lower is better) with respect to the initial model used to describe the data, that is $S = I$. The BIC ratio our discovery $S$ has achieved can be computed by means of"
   ]
  },
  {
   "cell_type": "code",
   "execution_count": 5,
   "metadata": {},
   "outputs": [],
   "source": [
    "bic_ratio_desc = result['objective'] / result['initial_objective']"
   ]
  },
  {
   "cell_type": "markdown",
   "metadata": {},
   "source": [
    "# Summarizing a multiple datasets\n",
    "\n",
    "Similar to the above, we are interested in discovering the pattern sets that summarize the data well. \n",
    "\n",
    "However, DESC can not only discover a single summary for multiple datasets at once, but it can also explain which patterns are _characteristic_ for a dataset and which patterns are _shared_ across arbitrary datasets.\n",
    "\n",
    "In case of this example we are given classes, for which we use desc to discover characteristic and shared patterns."
   ]
  },
  {
   "cell_type": "code",
   "execution_count": 6,
   "metadata": {},
   "outputs": [],
   "source": [
    "result = desc(x, y)"
   ]
  },
  {
   "cell_type": "markdown",
   "metadata": {},
   "source": [
    "Similar to the first example, DESC has discovered the pattern set "
   ]
  },
  {
   "cell_type": "code",
   "execution_count": 7,
   "metadata": {},
   "outputs": [],
   "source": [
    "S = result[\"pattern_set\"] \n",
    "patterns = [x for x in S if len(x) > 1]"
   ]
  },
  {
   "cell_type": "markdown",
   "metadata": {},
   "source": [
    "But this time, we also found the assignment of each pattern to a component, if that pattern is characteristic for a dataset.\n",
    "\n",
    "DESC encodes this in terms of the assignment matrix $A$, where $A_{j,i}$ is $1$ if pattern $x_i$ is characteristic for class $j$. A shared pattern is simply a pattern that is characteristic for multiple datasets. This matrix can be found in the result in terms of"
   ]
  },
  {
   "cell_type": "code",
   "execution_count": 8,
   "metadata": {},
   "outputs": [],
   "source": [
    "A = result[\"assignment_matrix\"] "
   ]
  },
  {
   "cell_type": "markdown",
   "metadata": {},
   "source": [
    "Next, we show the set of patterns that are characteristic for e.g. class 1 and class 2. We do this by extrating the patterns from S using assignment matrix $A_{ij}$. However, the assignment matrix also assignes singletons and since these are not very interesting in this example, we only consider larger patterns by slicing $A$ in the following way. "
   ]
  },
  {
   "cell_type": "code",
   "execution_count": 9,
   "metadata": {},
   "outputs": [],
   "source": [
    "I_1 = A[0][dim:]\n",
    "I_2 = A[1][dim:]\n",
    "\n",
    "S_1 = [S[i] for i in I_1]\n",
    "S_2 = [S[i] for i in I_2]"
   ]
  },
  {
   "cell_type": "markdown",
   "metadata": {},
   "source": [
    "Similarly, the set of shared patterns between class 1 and class 2 can be extracted "
   ]
  },
  {
   "cell_type": "code",
   "execution_count": 10,
   "metadata": {},
   "outputs": [],
   "source": [
    "I_12 = set(I_1).intersection(I_2)\n",
    "S_12 = [S[i] for i in I_12]"
   ]
  },
  {
   "cell_type": "markdown",
   "metadata": {},
   "source": [
    "Finally, the set that is unique patterns for class 1 or class 2 is"
   ]
  },
  {
   "cell_type": "code",
   "execution_count": 11,
   "metadata": {},
   "outputs": [],
   "source": [
    "U_1 = [S[i] for i in set(I_1) - I_12]\n",
    "U_2 = [S[i] for i in set(I_2) - I_12]"
   ]
  },
  {
   "cell_type": "markdown",
   "metadata": {},
   "source": [
    "For given class labels, DESC_y achieve a BIC ratio of"
   ]
  },
  {
   "cell_type": "code",
   "execution_count": 12,
   "metadata": {},
   "outputs": [],
   "source": [
    "bic_ratio_desc_y = result['objective'] / result['initial_objective']"
   ]
  },
  {
   "cell_type": "markdown",
   "metadata": {},
   "source": [
    "# Discovering the Composition\n",
    "\n",
    "Now what happens, if we are not provided with multiple classes?\n",
    "\n",
    "In this scenario, we are interested in the discovery of the pattern composition of the dataset. That is, we want to partition the dataset into clusters, where each cluster is significantly differently distributed from all the other clusters while we describe these partitions in terms of characteristic and shared patterns.\n",
    "\n",
    "The goal is not to reproduce latent class labels but to provide insights into data by showing regions that have a peculiar distribution in comparison to the rest.\n",
    "\n",
    "This method is called DISC.\n"
   ]
  },
  {
   "cell_type": "code",
   "execution_count": 13,
   "metadata": {},
   "outputs": [],
   "source": [
    "result = disc(x, int(len(x) * 0.01))"
   ]
  },
  {
   "cell_type": "markdown",
   "metadata": {},
   "source": [
    "For the sake of this example, we set the minimal support of a candidate pattern to be under consideration to a whopping 1 %."
   ]
  },
  {
   "cell_type": "markdown",
   "metadata": {},
   "source": [
    "The partitions that exhibit a significantly different distribution from the rest are exposed via data labels"
   ]
  },
  {
   "cell_type": "code",
   "execution_count": 14,
   "metadata": {},
   "outputs": [],
   "source": [
    "y = result['labels']"
   ]
  },
  {
   "cell_type": "markdown",
   "metadata": {},
   "source": [
    "This data composition gives us a BIC ratio of "
   ]
  },
  {
   "cell_type": "code",
   "execution_count": 15,
   "metadata": {},
   "outputs": [],
   "source": [
    "bic_ratio_disc = result['objective'] / result['initial_objective']"
   ]
  },
  {
   "cell_type": "markdown",
   "metadata": {},
   "source": [
    "and is described in terms of shared and characteristic patterns similar to the above"
   ]
  },
  {
   "cell_type": "code",
   "execution_count": 16,
   "metadata": {},
   "outputs": [],
   "source": [
    "A = result['assignment_matrix']\n",
    "S = result[\"pattern_set\"]"
   ]
  },
  {
   "cell_type": "markdown",
   "metadata": {},
   "source": [
    "Now, lets answer what is characteristic for class 1. That is simply"
   ]
  },
  {
   "cell_type": "code",
   "execution_count": 17,
   "metadata": {},
   "outputs": [],
   "source": [
    "S_1 = [S[i] for i in A[0][dim:]]"
   ]
  },
  {
   "cell_type": "markdown",
   "metadata": {},
   "source": [
    "Next, we show the patterns that are shared between classes 1,2 and 4. That can be done by taking the intersection of these assignments"
   ]
  },
  {
   "cell_type": "code",
   "execution_count": 18,
   "metadata": {},
   "outputs": [],
   "source": [
    "I_124 = set(A[0][dim:]).intersection(A[1][dim:]).intersection(A[3][dim:])\n",
    "S_124 = [S[i] for i in I_124]"
   ]
  },
  {
   "cell_type": "markdown",
   "metadata": {},
   "source": [
    "Which leads us to the question of what patterns are unique for class 1, which are exactly the following"
   ]
  },
  {
   "cell_type": "code",
   "execution_count": 19,
   "metadata": {},
   "outputs": [],
   "source": [
    "rest=set(A[1][dim:]).union(A[2][dim:]).union(A[3][dim:])\n",
    "U_1 = [S[i] for i in set(A[0][dim:]) - rest]"
   ]
  },
  {
   "cell_type": "markdown",
   "metadata": {},
   "source": [
    "To summarize the results above, we can visualize the achievements of DESC, DESC_y and DISC in terms of their respective BIC scores"
   ]
  },
  {
   "cell_type": "code",
   "execution_count": 20,
   "metadata": {
    "tags": []
   },
   "outputs": [
    {
     "data": {
      "text/plain": [
       "<BarContainer object of 3 artists>"
      ]
     },
     "execution_count": 20,
     "metadata": {},
     "output_type": "execute_result"
    },
    {
     "data": {
      "image/png": "[encoded data removed]",
      "text/plain": [
       "<Figure size 432x288 with 1 Axes>"
      ]
     },
     "metadata": {
      "needs_background": "light"
     },
     "output_type": "display_data"
    }
   ],
   "source": [
    "%matplotlib inline\n",
    "\n",
    "import matplotlib\n",
    "import matplotlib.pyplot as plt\n",
    "\n",
    "plt.bar([\"DESC\", \"DESC_y\", \"DISC\"], [bic_ratio_desc, bic_ratio_desc_y, bic_ratio_disc])"
   ]
  },
  {
   "cell_type": "markdown",
   "metadata": {},
   "source": [
    "We see that the difference BIC ratios of DESC and DESC_y is considerable. This observation simply means that the class labels that we have provided to DESC_y contains a significant amount of information and data within the classes is homogeneous that we do not need to explain these classes in terms of a sophisticated pattern set like DESC has to do it. \n",
    "\n",
    "DISC discovered a different partitioning that overall achieves the best ratio with more diverging distributions than DESC_y. \n",
    "Here, the smaller difference of DESC and DISC is due to the significantly larger regularizer/model cost used by DISC in comparison to DESC.\n",
    "\n",
    "Thank you for your time!"
   ]
  },
  {
   "cell_type": "code",
   "execution_count": null,
   "metadata": {},
   "outputs": [],
   "source": []
  }
 ],
 "metadata": {
  "kernelspec": {
   "display_name": "Python 3",
   "language": "python",
   "name": "python3"
  },
  "language_info": {
   "codemirror_mode": {
    "name": "ipython",
    "version": 3
   },
   "file_extension": ".py",
   "mimetype": "text/x-python",
   "name": "python",
   "nbconvert_exporter": "python",
   "pygments_lexer": "ipython3",
   "version": "3.7.3"
  }
 },
 "nbformat": 4,
 "nbformat_minor": 4
}
