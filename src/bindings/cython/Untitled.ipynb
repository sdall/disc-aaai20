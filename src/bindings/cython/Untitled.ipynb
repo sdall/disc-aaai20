{
 "cells": [
  {
   "cell_type": "code",
   "execution_count": 1,
   "metadata": {
    "tags": []
   },
   "outputs": [],
   "source": [
    "%load_ext cython"
   ]
  },
  {
   "cell_type": "code",
   "execution_count": 10,
   "metadata": {
    "tags": []
   },
   "outputs": [],
   "source": [
    "%%cython -+ -I/usr/include -I/local/include -I../../../include -I../../../src -ltbb -lgomp -f --compile-args=-std=c++17 --compile-args=-fopenmp --compile-args=-g --compile-args=-O0\n",
    "# distutils: language = c++\n",
    "\n",
    "import numpy\n",
    "\n",
    "cdef extern from \"<bindings/cython/CyDisc.hpp>\" namespace \"sd::disc\":\n",
    "    dict cy_desc_from_matrix(x, y, int min_support, int is_sparse, int high_precision_float)\n",
    "    dict cy_desc_from_transactions(x, y, int min_support, int is_sparse, int high_precision_float)\n",
    "\n",
    "def desc_wrap(x, y=None, min_support = 2, is_sparse = False, high_precision_float = False):\n",
    "    y = list(y) if y is not None else []\n",
    "    if isinstance(x, list):\n",
    "        if len(x) == 0:\n",
    "            return []\n",
    "        if not isinstance(x[0], list):\n",
    "            raise Exception(\"I dont like that type\")\n",
    "        else:\n",
    "            return cy_desc_from_transactions(x, y, min_support, is_sparse, high_precision_float)\n",
    "    elif isinstance(x, numpy.ndarray):\n",
    "        if x.ndim != 2: raise Exception(\"I dont like that type\")\n",
    "        if x.dtype != numpy.bool_:\n",
    "            x = x.astype(numpy.bool_)\n",
    "        return cy_desc_from_matrix(x, y, min_support, is_sparse, high_precision_float)\n",
    "    else:\n",
    "        raise Exception(\"I dont like that type\")"
   ]
  },
  {
   "cell_type": "code",
   "execution_count": 3,
   "metadata": {},
   "outputs": [],
   "source": [
    "# c = desc([[1,2,3],[1,2,3],[1],[1],[1]], [0,0,1,1,1])"
   ]
  },
  {
   "cell_type": "code",
   "execution_count": 32,
   "metadata": {},
   "outputs": [],
   "source": [
    "\n",
    "# class Contrasting:\n",
    "#     def shared(self, Y)\n",
    "#     def shared(self, Y):\n",
    "#         a_Y = [i for i in self.assignment[y] for y in Y]\n",
    "#         return [self.summary[i] for i in a_Y if len(self.summary[i]) > 1] \n",
    "#     def characteristic(self, i):\n",
    "\n",
    "class DESC:\n",
    "    def __init__(self, min_support = 2, is_sparse = False, use_high_precision_float = False):\n",
    "        self.min_support = min_support\n",
    "        self.is_sparse = is_sparse\n",
    "        self.use_high_precision_float = use_high_precision_float\n",
    "\n",
    "    def fit(self, x, y=None):\n",
    "        r = desc_wrap(x, y, self.min_support, self.is_sparse, self.use_high_precision_float)\n",
    "        # clean singletons from output.\n",
    "        # self.internal_state = r['internal_state']\n",
    "        self.initial_objective = r['initial_objective']\n",
    "        self.objective = r['objective']\n",
    "        self.gain = self.objective[0] / self.initial_objective[0]\n",
    "        self.elapsed_time_ms = r[\"elapsed_time[ms]\"]\n",
    "        self.summary = r['pattern_set']\n",
    "        self.frequency = r['frequencies']\n",
    "        if y is not None:\n",
    "            self.assingment = r['assignment']\n",
    "\n",
    "    # def predict(self, x):\n",
    "    #     if self.internal_state is None:\n",
    "    #         raise Exception(\"Cannot predict without fitting the model\")\n",
    "    #     return list(desc_classify_wrap(self.internal_state, x)) "
   ]
  },
  {
   "cell_type": "code",
   "execution_count": 28,
   "metadata": {},
   "outputs": [
    {
     "data": {
      "text/plain": [
       "{'pattern_set': [[0], [1], [2]],\n",
       " 'frequencies': [0.0, 1.0, 1.0],\n",
       " 'initial_objective': (3.2034265038149176e-16, 3.2034265038149176e-16, 0.0),\n",
       " 'objective': (3.2034265038149176e-16, 3.2034265038149176e-16, 0.0),\n",
       " 'elapsed_time[ms]': 25}"
      ]
     },
     "execution_count": 28,
     "metadata": {},
     "output_type": "execute_result"
    }
   ],
   "source": [
    "desc_wrap([[1,2]])"
   ]
  },
  {
   "cell_type": "code",
   "execution_count": null,
   "metadata": {},
   "outputs": [],
   "source": []
  },
  {
   "cell_type": "code",
   "execution_count": 29,
   "metadata": {},
   "outputs": [],
   "source": [
    "desc = DESC()\n",
    "desc.fit((numpy.random.uniform(size=(1000,2)) < 0.5))"
   ]
  },
  {
   "cell_type": "code",
   "execution_count": 33,
   "metadata": {},
   "outputs": [
    {
     "data": {
      "text/plain": [
       "1.0"
      ]
     },
     "execution_count": 33,
     "metadata": {},
     "output_type": "execute_result"
    }
   ],
   "source": [
    "desc.gain"
   ]
  },
  {
   "cell_type": "code",
   "execution_count": null,
   "metadata": {},
   "outputs": [],
   "source": []
  }
 ],
 "metadata": {
  "kernelspec": {
   "display_name": "Python 3",
   "language": "python",
   "name": "python3"
  },
  "language_info": {
   "codemirror_mode": {
    "name": "ipython",
    "version": 3
   },
   "file_extension": ".py",
   "mimetype": "text/x-python",
   "name": "python",
   "nbconvert_exporter": "python",
   "pygments_lexer": "ipython3",
   "version": "3.7.3"
  }
 },
 "nbformat": 4,
 "nbformat_minor": 4
}
